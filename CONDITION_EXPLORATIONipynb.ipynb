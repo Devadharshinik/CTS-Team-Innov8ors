{
  "nbformat": 4,
  "nbformat_minor": 0,
  "metadata": {
    "colab": {
      "provenance": []
    },
    "kernelspec": {
      "name": "python3",
      "display_name": "Python 3"
    },
    "language_info": {
      "name": "python"
    }
  },
  "cells": [
    {
      "cell_type": "code",
      "execution_count": null,
      "metadata": {
        "colab": {
          "base_uri": "https://localhost:8080/"
        },
        "id": "fdU8aSBj8TVJ",
        "outputId": "cda08a85-e9e5-4029-b59f-c826a5cc2dda"
      },
      "outputs": [
        {
          "output_type": "stream",
          "name": "stdout",
          "text": [
            "Drive already mounted at /content/drive; to attempt to forcibly remount, call drive.mount(\"/content/drive\", force_remount=True).\n"
          ]
        }
      ],
      "source": [
        "from google.colab import drive\n",
        "drive.mount('/content/drive')"
      ]
    },
    {
      "cell_type": "code",
      "source": [
        "import pandas as pd\n",
        "from sklearn.model_selection import train_test_split\n",
        "from sklearn.feature_extraction.text import TfidfVectorizer, CountVectorizer\n",
        "from sklearn.preprocessing import LabelEncoder\n",
        "from keras.models import Sequential\n",
        "from keras.layers import Dense, Conv1D, MaxPooling1D, Flatten, Dropout, Embedding, GlobalMaxPooling1D\n",
        "from keras.preprocessing.sequence import pad_sequences\n",
        "from tensorflow.keras.preprocessing.text import Tokenizer\n",
        "import numpy as np\n",
        "import re\n",
        "import pickle\n",
        "import joblib\n"
      ],
      "metadata": {
        "id": "w0v579tv8Veb"
      },
      "execution_count": null,
      "outputs": []
    },
    {
      "cell_type": "code",
      "source": [
        "# Load the dataset\n",
        "train_file_path = '/content/drive/My Drive/archive drug/drugsComTrain_raw.csv'\n",
        "test_file_path = '/content/drive/My Drive/archive drug/drugsComTest_raw.csv'\n",
        "train_data = pd.read_csv(train_file_path)\n",
        "test_data = pd.read_csv(test_file_path)\n",
        "data = pd.concat([train_data, test_data])"
      ],
      "metadata": {
        "id": "po_hsPyr8VS2"
      },
      "execution_count": null,
      "outputs": []
    },
    {
      "cell_type": "code",
      "source": [
        "# Preprocessing function\n",
        "def preprocess_text(text):\n",
        "    text = text.lower()\n",
        "    text = re.sub(r'[^a-zA-Z\\s]', '', text)\n",
        "    text = re.sub(r'\\s+', ' ', text).strip()\n",
        "    return text\n"
      ],
      "metadata": {
        "id": "j4dRk1-B8VMm"
      },
      "execution_count": null,
      "outputs": []
    },
    {
      "cell_type": "code",
      "source": [
        "# Apply preprocessing\n",
        "data['review'] = data['review'].apply(preprocess_text)\n",
        "\n",
        "# Fill missing values\n",
        "data = data.fillna('')"
      ],
      "metadata": {
        "id": "_QaSxL1P8VCU"
      },
      "execution_count": null,
      "outputs": []
    },
    {
      "cell_type": "code",
      "source": [
        "# Encode the labels\n",
        "le_drug = LabelEncoder()\n",
        "data['drugName'] = le_drug.fit_transform(data['drugName'])\n",
        "\n",
        "le_condition = LabelEncoder()\n",
        "data['condition'] = le_condition.fit_transform(data['condition'])"
      ],
      "metadata": {
        "id": "p3dlQ_J08kyx"
      },
      "execution_count": null,
      "outputs": []
    },
    {
      "cell_type": "code",
      "source": [
        "# Split the data\n",
        "X = data['review']\n",
        "y = data[['drugName', 'condition']]\n",
        "X_train, X_test, y_train, y_test = train_test_split(X, y, test_size=0.2, random_state=42)\n"
      ],
      "metadata": {
        "id": "W5E5UK-Y8kwV"
      },
      "execution_count": null,
      "outputs": []
    },
    {
      "cell_type": "code",
      "source": [
        "from scipy.sparse import hstack\n",
        "\n",
        "# Initialize the vectorizers\n",
        "tfidf_vectorizer = TfidfVectorizer(max_features=5000)\n",
        "count_vectorizer = CountVectorizer(max_features=5000)\n",
        "\n",
        "# Fit and transform the data\n",
        "tfidf_train = tfidf_vectorizer.fit_transform(X_train)\n",
        "tfidf_test = tfidf_vectorizer.transform(X_test)\n",
        "\n",
        "cv_train = count_vectorizer.fit_transform(X_train)\n",
        "cv_test = count_vectorizer.transform(X_test)\n",
        "\n",
        "# Combine the features\n",
        "X_train_combined = hstack([tfidf_train, cv_train])\n",
        "X_test_combined = hstack([tfidf_test, cv_test])\n",
        "\n",
        "# Tokenize the text data\n",
        "tokenizer = Tokenizer(num_words=10000)\n",
        "tokenizer.fit_on_texts(X_train)\n",
        "X_train_seq = tokenizer.texts_to_sequences(X_train)\n",
        "X_test_seq = tokenizer.texts_to_sequences(X_test)\n",
        "\n",
        "# Pad the sequences\n",
        "max_length = 500\n",
        "X_train_padded = pad_sequences(X_train_seq, maxlen=max_length)\n",
        "X_test_padded = pad_sequences(X_test_seq, maxlen=max_length)"
      ],
      "metadata": {
        "id": "sZ9KsN_38kt-"
      },
      "execution_count": null,
      "outputs": []
    },
    {
      "cell_type": "code",
      "source": [
        "# Create the CNN model\n",
        "model = Sequential([\n",
        "    Embedding(input_dim=10000, output_dim=128, input_length=max_length),\n",
        "    Conv1D(filters=64, kernel_size=3, activation='relu'),\n",
        "    MaxPooling1D(pool_size=2),\n",
        "    Dropout(0.5),\n",
        "    Conv1D(filters=64, kernel_size=3, activation='relu'),\n",
        "    MaxPooling1D(pool_size=2),\n",
        "    Dropout(0.5),\n",
        "    Flatten(),\n",
        "    Dense(128, activation='relu'),\n",
        "    Dropout(0.5),\n",
        "    Dense(y_train.shape[1], activation='softmax')\n",
        "])\n"
      ],
      "metadata": {
        "colab": {
          "base_uri": "https://localhost:8080/"
        },
        "id": "h11gczvW8krX",
        "outputId": "d149012b-c122-4342-b7b1-6f3efbaa1eca"
      },
      "execution_count": null,
      "outputs": [
        {
          "output_type": "stream",
          "name": "stderr",
          "text": [
            "/usr/local/lib/python3.10/dist-packages/keras/src/layers/core/embedding.py:90: UserWarning: Argument `input_length` is deprecated. Just remove it.\n",
            "  warnings.warn(\n"
          ]
        }
      ]
    },
    {
      "cell_type": "code",
      "source": [
        "# Compile the model\n",
        "model.compile(optimizer='adam', loss='categorical_crossentropy', metrics=['accuracy'])\n",
        "\n",
        "# Train the model\n",
        "model.fit(X_train_padded, y_train, epochs=1, batch_size=256, validation_data=(X_test_padded, y_test))"
      ],
      "metadata": {
        "colab": {
          "base_uri": "https://localhost:8080/"
        },
        "id": "a5qjmTlX8koi",
        "outputId": "4ae06367-875c-4ce6-a65a-2aceb4c122dc"
      },
      "execution_count": null,
      "outputs": [
        {
          "output_type": "stream",
          "name": "stdout",
          "text": [
            "\u001b[1m673/673\u001b[0m \u001b[32m━━━━━━━━━━━━━━━━━━━━\u001b[0m\u001b[37m\u001b[0m \u001b[1m693s\u001b[0m 1s/step - accuracy: 0.8998 - loss: 58858928078848.0000 - val_accuracy: 0.9055 - val_loss: 1698954173480960.0000\n"
          ]
        },
        {
          "output_type": "execute_result",
          "data": {
            "text/plain": [
              "<keras.src.callbacks.history.History at 0x7f8d998dae30>"
            ]
          },
          "metadata": {},
          "execution_count": 36
        }
      ]
    },
    {
      "cell_type": "code",
      "source": [
        "# Function to get reviews and conditions by drug name\n",
        "def get_reviews_and_conditions(drug_name):\n",
        "    try:\n",
        "        drug_name_encoded = le_drug.transform([drug_name])[0]\n",
        "        filtered_data = data[data['drugName'] == drug_name_encoded]\n",
        "        unique_conditions = filtered_data['condition'].unique()[:5]\n",
        "        reviews = filtered_data['review'].values[:5]\n",
        "        conditions = le_condition.inverse_transform(unique_conditions)\n",
        "        return conditions, reviews\n",
        "    except ValueError:\n",
        "        return \"Drug name not found in the dataset\", []\n",
        "\n",
        "# Function to get drugs and reviews by condition\n",
        "def get_drugs_and_reviews(condition):\n",
        "    try:\n",
        "        condition_encoded = le_condition.transform([condition])[0]\n",
        "        filtered_data = data[data['condition'] == condition_encoded]\n",
        "        unique_drugs = filtered_data['drugName'].unique()[:5]\n",
        "        reviews = filtered_data['review'].values[:5]\n",
        "        drugs = le_drug.inverse_transform(unique_drugs)\n",
        "        return drugs, reviews\n",
        "    except ValueError:\n",
        "        return \"Condition not found in the dataset\", []\n"
      ],
      "metadata": {
        "id": "MoZV965T85IP"
      },
      "execution_count": null,
      "outputs": []
    },
    {
      "cell_type": "code",
      "source": [
        "\n",
        "\n",
        "# Simulate user input for condition\n",
        "user_input_condition = input(\"Enter condition: \")\n",
        "drugs, reviews = get_drugs_and_reviews(user_input_condition)\n",
        "print(f\"Drugs associated with {user_input_condition}: {drugs}\")\n",
        "print(f\"Reviews for {user_input_condition}: {reviews}\")"
      ],
      "metadata": {
        "colab": {
          "base_uri": "https://localhost:8080/"
        },
        "id": "oIMPWzsU85Fy",
        "outputId": "c5ab7005-18ee-4b7f-898f-6654a550f01e"
      },
      "execution_count": null,
      "outputs": [
        {
          "output_type": "stream",
          "name": "stdout",
          "text": [
            "Enter condition: Depression\n",
            "Drugs associated with Depression: ['L-methylfolate' 'Sertraline' 'Venlafaxine' 'Effexor XR' 'Wellbutrin']\n",
            "Reviews for Depression: ['i have taken antidepressants for years with some improvement but mostly moderate to severe side affects which makes me go off them i only take cymbalta now mostly for pain when i began deplin i noticed a major improvement overnight more energy better disposition and no sinking to the low lows of major depression i have been taking it for about months now and feel like a normal person for the first time ever best thing no side effects'\n",
            " 'week on zoloft for anxiety and mood swings i take mg in the mornings with my breakfast nausea on day one but that subsided as the week went on i get the jitters about hrs after taking it followed by yawning i feel much better though and less angrystressed'\n",
            " 'my gp started me on venlafaxine yesterday to help with depression and the changea hour after taking them i was feeling very sick couldnt stomach food or fluids thought keep it up as she told me they did come with some side effects which would get bettertook another one last night and was so ill i couldnt stand being sick sweating shaking thought i was going to pass out did get some sleep hopeing to feel better this morningtook another one and felt so spaced out dry mouth shaking sick so booked in to see gp again to make sure i should be feeling like this only to find out she had put me on the wrong dose should have been on mg was put on mg now on right dose hope this will be better'\n",
            " 'this medicine saved my life i was at my wits end with antidepressants and was ready to give up my doctor finally prescribed me this after many failed medications i am so glad she did i honestly do not know where i would be without effexor xr side effects were very mild compared to other antidepressants i tried i was drowsy for the first couple days but it was tolerable i highly recommend this for severe depression i would also like to mention for people to realize there is light at the end of the tunnel and you will get better and to never give up'\n",
            " 'started taking it and i slept well at night and awoke early around to start my day happily but come am and i am drowsy and needed to take already two hrs nap awake and resume my day with not much difficulties than st pm again i needed a nap so how was i gonna make it to work and my appointments too i went cold turkey felt much better after that only to crash again i did try other anti depressants including pristique but i suffered with insomnia with these meds i know i need to start again but so confused if i should resume welbutrin']\n"
          ]
        }
      ]
    },
    {
      "cell_type": "code",
      "source": [
        "# Save the model\n",
        "model.save('/content/drive/My Drive/drug/condition_exploration.h5')\n",
        "\n",
        "# Save the tokenizer\n",
        "with open('/content/drive/My Drive/drug/tokenizer_condition.pkl', 'wb') as file:\n",
        "    joblib.dump(tokenizer, file)\n",
        "\n",
        "# Save the label encoders\n",
        "with open('/content/drive/My Drive/drug/le_dr.pkl', 'wb') as file:\n",
        "    joblib.dump(le_drug, file)\n",
        "\n",
        "with open('/content/drive/My Drive/drug/le_co.pkl', 'wb') as file:\n",
        "    joblib.dump(le_condition, file)\n"
      ],
      "metadata": {
        "colab": {
          "base_uri": "https://localhost:8080/"
        },
        "id": "nOiSoqcZ85Cb",
        "outputId": "9fbf832e-abed-4420-f41c-fb397d8c516d"
      },
      "execution_count": null,
      "outputs": [
        {
          "output_type": "stream",
          "name": "stderr",
          "text": [
            "WARNING:absl:You are saving your model as an HDF5 file via `model.save()` or `keras.saving.save_model(model)`. This file format is considered legacy. We recommend using instead the native Keras format, e.g. `model.save('my_model.keras')` or `keras.saving.save_model(model, 'my_model.keras')`. \n"
          ]
        }
      ]
    }
  ]
}